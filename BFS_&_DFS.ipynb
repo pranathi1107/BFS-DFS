{
  "nbformat": 4,
  "nbformat_minor": 0,
  "metadata": {
    "colab": {
      "provenance": []
    },
    "kernelspec": {
      "name": "python3",
      "display_name": "Python 3"
    },
    "language_info": {
      "name": "python"
    }
  },
  "cells": [
    {
      "cell_type": "code",
      "source": [
        "graph = {\n",
        " '5' : ['3','7'],\n",
        " '3' : ['2', '4'],\n",
        " '7' : ['8'],\n",
        " '2' : [],\n",
        " '4' : ['8'],\n",
        " '8' : []\n",
        "}\n",
        "visited = []\n",
        "queue = []\n",
        "def bfs(visited, graph, node):\n",
        " visited.append(node)\n",
        " queue.append(node)\n",
        " while queue:\n",
        "   m = queue.pop(0)\n",
        "   print (m, end = \" \")\n",
        " for neighbour in graph[m]:\n",
        "   if neighbour not in visited:\n",
        "     visited.append(neighbour)\n",
        "     queue.append(neighbour)\n",
        "print(\"Following is the Breadth-First Search\")\n",
        "bfs(visited, graph, '5') # function calling"
      ],
      "metadata": {
        "colab": {
          "base_uri": "https://localhost:8080/"
        },
        "id": "E18ovdz-daU9",
        "outputId": "949b470e-5c33-4023-ebe0-5d81180ce375"
      },
      "execution_count": null,
      "outputs": [
        {
          "output_type": "stream",
          "name": "stdout",
          "text": [
            "Following is the Breadth-First Search\n",
            "5 "
          ]
        }
      ]
    },
    {
      "cell_type": "code",
      "source": [
        "graph = {\n",
        " '5' : ['3','7'],\n",
        " '3' : ['2', '4'],\n",
        " '7' : ['8'],\n",
        " '2' : [],\n",
        " '4' : ['8'],\n",
        " '8' : []\n",
        "}\n",
        "visited = set()\n",
        "def dfs(visited, graph, node):\n",
        " if node not in visited:\n",
        "   print (node)\n",
        "   visited.add(node)\n",
        " for neighbour in graph[node]:\n",
        "   dfs(visited, graph, neighbour)\n",
        "print(\"Following is the Depth-First Search\")\n",
        "dfs(visited, graph, '5')\n"
      ],
      "metadata": {
        "colab": {
          "base_uri": "https://localhost:8080/"
        },
        "id": "yeiQ47T7d_vI",
        "outputId": "50fd8ffd-3453-4b9b-adeb-135a8c7da1b3"
      },
      "execution_count": null,
      "outputs": [
        {
          "output_type": "stream",
          "name": "stdout",
          "text": [
            "Following is the Depth-First Search\n",
            "5\n",
            "3\n",
            "2\n",
            "4\n",
            "8\n",
            "7\n"
          ]
        }
      ]
    }
  ]
}